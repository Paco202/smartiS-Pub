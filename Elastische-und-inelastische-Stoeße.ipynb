{
 "cells": [
  {
   "cell_type": "markdown",
   "metadata": {},
   "source": [
    "\n",
    "# Smarte und interaktive Kurzskripte (smartiS)\n",
    "# Elastische und inelastische Stöße\n",
    "[Prof. Dr. Kersten, Peter](https://www.hshl.de/personen/prof-dr-ing-peter-kersten), \n",
    "[Kamegne Kamdem, Paco Leger](https://www.linkedin.com/in/leger-paco-kamegne-kamdem-07ba39184/),\n",
    "[Neathery, Noel Bastien](),\n",
    "[Jeschonowski, Jule](),\n",
    "[Weis, Dominik Marek](), \n",
    "\n",
    "Hochschule Hamm - Lippstadt\n",
    "\n",
    "Wintersemester 2020/21\n",
    "23th September 2020\n"
   ]
  },
  {
   "cell_type": "markdown",
   "metadata": {},
   "source": [
    "  - In einem abgeschlossenen System mit konservativen Kräften gilt der Energieerhaltungssatz.\n",
    "  - Ein Hartgummiball, der auf einen gefliesten Boden fällt, erreicht fast wieder seine ursprüngliche Höhe, man spricht von         einem elastischen Stoß.\n",
    "  - Wenn man ein Stück Knetgummi aus der gleichen Höhe fallen lässt, wird die kinetische Energie vollständig vernichtet, man       spricht von einem inelastischenStoß, den Energieerhaltungssatz gilt hier nicht.\n",
    "  - Welche inelastischeProzesse fallen Ihnen ein?\n",
    "  - Wie kann man inelastischeProzesse beschreiben?\n"
   ]
  },
  {
   "cell_type": "code",
   "execution_count": null,
   "metadata": {},
   "outputs": [],
   "source": [
    "%matplotlib inline\n",
    "from __future__ import division, print_function\n",
    "#from ivisual import *\n",
    "from math import *\n",
    "import matplotlib.pyplot as plt\n",
    "\n",
    "from random import choice, randint, uniform\n",
    "from math import pi\n",
    "from ipywidgets import Image, HBox\n",
    "from ipycanvas import Canvas, hold_canvas"
   ]
  },
  {
   "cell_type": "code",
   "execution_count": null,
   "metadata": {},
   "outputs": [],
   "source": [
    "\n",
    "#____import____\n",
    "\n",
    "%matplotlib inline\n",
    "\n",
    "import numpy as np\n",
    "import ipywidgets as widgets\n",
    "\n",
    "from ipywidgets import interact\n",
    "from IPython.display import Markdown, clear_output, display, HTML\n",
    "\n",
    "javascript_functions = {False: \"hide()\", True: \"show()\"}\n",
    "button_descriptions  = {False: \"Code anzeigen\", True: \"Code verbergen\"}\n",
    "\n",
    "\n",
    "def toggle_code(state):\n",
    "\n",
    "    \"\"\"\n",
    "    Toggles the JavaScript show()/hide() function on the div.input element.\n",
    "    \"\"\"\n",
    "\n",
    "    output_string = \"<script>$(\\\"div.input\\\").{}</script>\"\n",
    "    output_args   = (javascript_functions[state],)\n",
    "    output        = output_string.format(*output_args)\n",
    "\n",
    "    display(HTML(output))\n",
    "\n",
    "\n",
    "def button_action(value):\n",
    "\n",
    "    \"\"\"\n",
    "    Calls the toggle_code function and updates the button description.\n",
    "    \"\"\"\n",
    "\n",
    "    state = value.new\n",
    "\n",
    "    toggle_code(state)\n",
    "\n",
    "    value.owner.description = button_descriptions[state]\n",
    "\n",
    "\n",
    "state = False\n",
    "toggle_code(state)\n",
    "\n",
    "button = widgets.ToggleButton(state, description = button_descriptions[state])\n",
    "button.observe(button_action, \"value\")\n",
    "\n",
    "display(button)"
   ]
  },
  {
   "cell_type": "code",
   "execution_count": 33,
   "metadata": {},
   "outputs": [
    {
     "data": {
      "application/vnd.jupyter.widget-view+json": {
       "model_id": "fde9f6020f004367bcbd611761f81b27",
       "version_major": 2,
       "version_minor": 0
      },
      "text/plain": [
       "Plot(antialias=3, axes=['x', 'y', 'z'], axes_helper=1.0, background_color=16777215, camera=[4.414561872848566,…"
      ]
     },
     "metadata": {},
     "output_type": "display_data"
    }
   ],
   "source": [
    "from vedo import *\n",
    "\n",
    "#a = load(datadir+\"spider.ply\").texture('leather')\n",
    "#a.normalize().rotateZ(-90).addShadow(x=-3, alpha=0.5)\n",
    "\n",
    "s = Sphere(r=0.4).pos(0.4,0,1.6).addShadow(x=-3)\n",
    "s1 = Sphere(r=0.3).pos(3.8,1,1.6).addShadow(x=-3)\n",
    "\n",
    "show(s,s1, __doc__, axes=1, viewup=\"z\")"
   ]
  },
  {
   "cell_type": "markdown",
   "metadata": {},
   "source": [
    "## DIY"
   ]
  },
  {
   "cell_type": "markdown",
   "metadata": {},
   "source": [
    "## Danksagung\n",
    "\n",
    "Dieses digitale Lehr-/Lernmaterial wurde im Rahmen des Programms Fellowships für Innovationen in der digitalen Hochschullehre des Ministeriums für Kultur und Wissenschaft des Landes Nordrhein-Westfalen und des Stifterverbandes entwickelt. Es steht als Open Educational Ressources unter der Lizenz [Creative Commons Attribution-ShareAlike 4.0 International License (CC BY-SA 4.0) ](https://creativecommons.org/licenses/by-sa/4.0/) zur Verfügung.\n",
    "\n",
    "<img align=\"left\" src=\"https://licensebuttons.net/l/by-sa/3.0/88x31.png\">"
   ]
  },
  {
   "cell_type": "code",
   "execution_count": null,
   "metadata": {},
   "outputs": [],
   "source": []
  },
  {
   "cell_type": "code",
   "execution_count": null,
   "metadata": {},
   "outputs": [],
   "source": []
  }
 ],
 "metadata": {
  "kernelspec": {
   "display_name": "Python 3",
   "language": "python",
   "name": "python3"
  },
  "language_info": {
   "codemirror_mode": {
    "name": "ipython",
    "version": 3
   },
   "file_extension": ".py",
   "mimetype": "text/x-python",
   "name": "python",
   "nbconvert_exporter": "python",
   "pygments_lexer": "ipython3",
   "version": "3.8.3"
  }
 },
 "nbformat": 4,
 "nbformat_minor": 4
}
