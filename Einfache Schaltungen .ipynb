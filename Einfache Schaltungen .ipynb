{
 "cells": [
  {
   "cell_type": "markdown",
   "metadata": {},
   "source": [
    "\n",
    "# Smarte und interaktive Kurzskripte (smartiS)\n",
    "# Einfache Schaltungen (Alltagsbezug: Deckenleuchte, Toaster) à Variierbare Wiederstände & womöglich auch eine variierbare Spannungsquelle. Anschließend werden einem die Teilströme ausgegeben\n",
    "\n",
    "[Prof. Dr. Kersten, Peter](https://www.hshl.de/personen/prof-dr-ing-peter-kersten), \n",
    "[Kamegne Kamdem, Paco Leger](https://www.linkedin.com/in/leger-paco-kamegne-kamdem-07ba39184/),\n",
    "[Neathery, Noel Bastien](),\n",
    "[Jeschonowski, Jule](),\n",
    "[Weis, Dominik Marek](), \n",
    "\n",
    "Hochschule Hamm - Lippstadt\n",
    "\n",
    "Wintersemester 2020/21\n",
    "23th September 2020"
   ]
  },
  {
   "cell_type": "markdown",
   "metadata": {},
   "source": [
    "#### Für den Gesamtwiderstand einer Serien- bzw. einer Parallelschaltung gilt:"
   ]
  },
  {
   "cell_type": "markdown",
   "metadata": {},
   "source": [
    "<table width=\"100%\">\n",
    "    <tr>\n",
    "        <td align=\"center\">\n",
    "            <b></b>\n",
    "        </td>\n",
    "        <td align=\"center\">\n",
    "            <b></b>\n",
    "        </td>\n",
    "    </tr>\n",
    "    <tr>\n",
    "        <td width=50% valign=\"top\" align=\"center\">\n",
    "            <img src=\"S-Schaltung.jpg\">\n",
    "        </td>\n",
    "        <td width=50% valign=\"top\" align=\"center\">\n",
    "            <img src=\"P-Schaltung.jpg\">\n",
    "        </td>\n",
    "       \n",
    " \n",
    "   \n",
    "</table>"
   ]
  },
  {
   "cell_type": "markdown",
   "metadata": {},
   "source": [
    "## DIY\n",
    "Berechne für jede der vier gegebenen Schaltungen den Gesamtwiderstand und die\n",
    " Gesamtstromstärke Iges bei der angelegten Spannung.\n",
    "Bestimme rechnerisch auch die Spannungsabfälle an den einzelnen Widerständen\n",
    "und die von den eingezeichneten Amperemetern gemessenen Teilstromstärken.\n",
    "Baue nach der jeweiligen Rechnung die Schaltung auf und überprüfe dann deine\n",
    "Rechenergebnisse experimentell durch geeignete Messungen.\n",
    "\n",
    "Widerstände können mithilfe der Schieberegler eingestellt werden."
   ]
  },
  {
   "cell_type": "markdown",
   "metadata": {},
   "source": [
    "<table width=\"90%\">\n",
    "    <tr>\n",
    "        <td align=\"center\">\n",
    "            <b>Schaltung 1</b>\n",
    "        </td>\n",
    "        <td align=\"center\">\n",
    "            <b>Schaltung 2</b>\n",
    "        </td>\n",
    "    </tr>\n",
    "    <tr>\n",
    "        <td width=50% valign=\"top\" align=\"center\">\n",
    "            <img src=\"Schlatung-1.jpg\">\n",
    "        </td>\n",
    "        <td width=50% valign=\"top\" align=\"center\">\n",
    "            <img src=\"Schlatung-2.jpg\">\n",
    "        </td>\n",
    "       \n",
    "   \n",
    "   \n",
    "</table>"
   ]
  },
  {
   "cell_type": "code",
   "execution_count": 4,
   "metadata": {},
   "outputs": [],
   "source": [
    "#____import____\n",
    "\n",
    "%matplotlib inline\n",
    "\n",
    "import numpy as np\n",
    "import matplotlib.pyplot as plt\n",
    "import ipywidgets as widgets\n",
    "import matplotlib.animation as animation\n",
    "\n",
    "from ipywidgets import interact\n",
    "from IPython.display import Markdown, clear_output, display\n",
    "from sympy import symbols\n",
    "from matplotlib.pyplot import figure"
   ]
  },
  {
   "cell_type": "code",
   "execution_count": 5,
   "metadata": {},
   "outputs": [
    {
     "data": {
      "text/html": [
       "<script>$(\"div.input\").hide()</script>"
      ],
      "text/plain": [
       "<IPython.core.display.HTML object>"
      ]
     },
     "metadata": {},
     "output_type": "display_data"
    },
    {
     "data": {
      "application/vnd.jupyter.widget-view+json": {
       "model_id": "c080ec382a7441b6984f734755b07d08",
       "version_major": 2,
       "version_minor": 0
      },
      "text/plain": [
       "ToggleButton(value=False, description='Code anzeigen')"
      ]
     },
     "metadata": {},
     "output_type": "display_data"
    }
   ],
   "source": [
    "\n",
    "#____import____\n",
    "\n",
    "%matplotlib inline\n",
    "\n",
    "import numpy as np\n",
    "import ipywidgets as widgets\n",
    "\n",
    "from ipywidgets import interact\n",
    "from IPython.display import Markdown, clear_output, display, HTML\n",
    "\n",
    "javascript_functions = {False: \"hide()\", True: \"show()\"}\n",
    "button_descriptions  = {False: \"Code anzeigen\", True: \"Code verbergen\"}\n",
    "\n",
    "\n",
    "def toggle_code(state):\n",
    "\n",
    "    \"\"\"\n",
    "    Toggles the JavaScript show()/hide() function on the div.input element.\n",
    "    \"\"\"\n",
    "\n",
    "    output_string = \"<script>$(\\\"div.input\\\").{}</script>\"\n",
    "    output_args   = (javascript_functions[state],)\n",
    "    output        = output_string.format(*output_args)\n",
    "\n",
    "    display(HTML(output))\n",
    "\n",
    "\n",
    "def button_action(value):\n",
    "\n",
    "    \"\"\"\n",
    "    Calls the toggle_code function and updates the button description.\n",
    "    \"\"\"\n",
    "\n",
    "    state = value.new\n",
    "\n",
    "    toggle_code(state)\n",
    "\n",
    "    value.owner.description = button_descriptions[state]\n",
    "\n",
    "\n",
    "state = False\n",
    "toggle_code(state)\n",
    "\n",
    "button = widgets.ToggleButton(state, description = button_descriptions[state])\n",
    "button.observe(button_action, \"value\")\n",
    "\n",
    "display(button)"
   ]
  },
  {
   "cell_type": "code",
   "execution_count": 6,
   "metadata": {},
   "outputs": [
    {
     "data": {
      "application/vnd.jupyter.widget-view+json": {
       "model_id": "aee1f65fd61f405bb8894cea2161d34a",
       "version_major": 2,
       "version_minor": 0
      },
      "text/plain": [
       "interactive(children=(Dropdown(description='Widerstand:', options=('R1', 'R2', 'R3', 'R4', 'Rges'), value='R1'…"
      ]
     },
     "metadata": {},
     "output_type": "display_data"
    },
    {
     "data": {
      "application/vnd.jupyter.widget-view+json": {
       "model_id": "161af72116514118adf7007664d8edb9",
       "version_major": 2,
       "version_minor": 0
      },
      "text/plain": [
       "interactive(children=(Dropdown(description='Spannung:', options=('U', 'U1', 'U2', 'U3', 'U4', 'I4'), value='U'…"
      ]
     },
     "metadata": {},
     "output_type": "display_data"
    },
    {
     "data": {
      "application/vnd.jupyter.widget-view+json": {
       "model_id": "31681b61060d40debb838d6b4b0c0f17",
       "version_major": 2,
       "version_minor": 0
      },
      "text/plain": [
       "interactive(children=(Dropdown(description='Strom:', index=1, options=('Rges', 'I1', 'I2', 'I3', 'Iges'), valu…"
      ]
     },
     "metadata": {},
     "output_type": "display_data"
    },
    {
     "data": {
      "application/vnd.jupyter.widget-view+json": {
       "model_id": "72e7fcd1d2d345b9b3592abb2ef23d43",
       "version_major": 2,
       "version_minor": 0
      },
      "text/plain": [
       "interactive(children=(Dropdown(description='Strom:', index=1, options=('Rges', 'I1', 'I2', 'I3', 'Iges'), valu…"
      ]
     },
     "metadata": {},
     "output_type": "display_data"
    },
    {
     "data": {
      "application/vnd.jupyter.widget-view+json": {
       "model_id": "0c982989e2d4464fb367c011a416666d",
       "version_major": 2,
       "version_minor": 0
      },
      "text/plain": [
       "Canvas(height=400, width=800)"
      ]
     },
     "metadata": {},
     "output_type": "display_data"
    }
   ],
   "source": [
    "from ipywidgets import Image\n",
    "from ipycanvas import Canvas\n",
    "sprite1 = Image.from_file('Schlatung-1.jpg')\n",
    "#sprite2 = Image.from_file('Boule.jpg')\n",
    "canvas = Canvas(width=800, height=400)\n",
    "canvas.fill_style = '#a9cafc'\n",
    "\n",
    "canvas.fill_rect(0, 0, 0, 0)\n",
    "canvas.draw_image(sprite1, 300, 0)\n",
    "#canvas.draw_image(sprite2, 700, 30)\n",
    "\n",
    "#Buttons = widgets.ToggleButtons(\n",
    "    #                            options=['Res', 'Intensity', 'U', 'R4'],\n",
    "    #                            description='trigo:',\n",
    "      #                          disabled=False,\n",
    "       #                         button_style='', # 'success', 'info', 'warning', 'danger' or ''\n",
    "       #                         tooltips=['Description of slow', 'Description of regular', 'Description of fast'],\n",
    "        #                        )\n",
    "\n",
    "Res = widgets.Dropdown(\n",
    "    options=['R1', 'R2', 'R3', 'R4','Rges'],\n",
    "    value='R1',\n",
    "    description='Widerstand:',\n",
    "    disabled=False,\n",
    ")\n",
    "\n",
    "Tens =widgets.Dropdown(\n",
    "    options=['U', 'U1', 'U2', 'U3', 'U4', 'I4'],\n",
    "    value='U',\n",
    "    description='Spannung:',\n",
    "    disabled=False,\n",
    ")\n",
    "\n",
    "Int=widgets.Dropdown(\n",
    "    options=['Rges','I1', 'I2', 'I3', 'Iges'],\n",
    "    value='I1',\n",
    "    description='Strom:',\n",
    "    disabled=False,\n",
    ")\n",
    "\n",
    "\n",
    "U = widgets.FloatSlider(min=1.0, max=240.0, step=0.1, value=5.0, description='U in Volt')\n",
    "\n",
    "#caption = widgets.Label(value='The values of range1 and Res1 are synchronized')\n",
    "#range1, Slider_R1 = widgets.IntSlider(description='Range 1'),\\\n",
    "#                 widgets.IntSlider(description='Slider_R1')\n",
    "#l = widgets.jslink((range1, 'value'), (Slider_R1, 'value'))\n",
    "#display(caption, range1, Slider_R1)\n",
    "\n",
    "from ipycanvas import MultiCanvas\n",
    "# Create a multi-layer canvas with 4 layers\n",
    "multi_canvas = MultiCanvas(4, width=500, height=500)\n",
    "multi_canvas[0] # Access first layer (background)\n",
    "multi_canvas[3] # Access last layer\n",
    "multi_canvas\n",
    "\n",
    "\n",
    "Slider_R1 = widgets.FloatSlider(min=1.0, max=500.0, step=0.1, value=100.0, description='R1 in Ohm')\n",
    "Slider_R2 = widgets.FloatSlider(min=1.0, max=500.0, step=0.1, value=100.0, description='R2 in Ohm')\n",
    "Slider_R3 = widgets.FloatSlider(min=1.0, max=500.0, step=0.1, value=200.0, description='R3 in Ohm')\n",
    "#Slider_R4 = widgets.FloatSlider(min=1.0, max=500.0, step=0.1, value=400.0, description='R4 in Ohm')\n",
    "\n",
    "Slider_R4 = widgets.Play(\n",
    "    value=5.0,\n",
    "    min=1.0,\n",
    "    max=100.0,\n",
    "    step=1.0,\n",
    "    interval=500.0,\n",
    "    description=\"Press play\",\n",
    "    disabled=False\n",
    ")\n",
    "slider = widgets.IntSlider()\n",
    "widgets.jslink((Slider_R4, 'value'), (slider, 'value'))\n",
    "widgets.HBox([Slider_R4, slider])\n",
    "\n",
    "#Rges = 1/(1/Slider_R3 + 1/((1/(1/Slider_R1 + 1/Slider_R4))+ Slider_R2))\n",
    "\n",
    "\n",
    "\n",
    "Hypothenuse = widgets.Play(\n",
    "    value=5,\n",
    "    min=1,\n",
    "    max=100,\n",
    "    step=1,\n",
    "    interval=500,\n",
    "    description=\"Press play\",\n",
    "    disabled=False\n",
    ")\n",
    "slider = widgets.IntSlider()\n",
    "widgets.jslink((Hypothenuse, 'value'), (slider, 'value'))\n",
    "widgets.HBox([Hypothenuse, slider])\n",
    "\n",
    "\n",
    "def fonc_Res (Widerstand, Slider_R1, Slider_R2, Slider_R3,Slider_R4):\n",
    "    if Widerstand == 'R1':\n",
    "        I = Slider_R1\n",
    "        print(f'R1 = {I} Ohm')\n",
    "        \n",
    "    elif Widerstand == 'R2':\n",
    "        I = Slider_R2\n",
    "        print(f' R2 = {I} Ohm')\n",
    "        \n",
    "    elif Widerstand == 'R3':\n",
    "        I = Slider_R3\n",
    "        print(f'R3 = {I} Ohm')\n",
    "        \n",
    "    elif Widerstand == 'R4':\n",
    "        I = Slider_R4\n",
    "        print(f'R4 = {I} Ohm')\n",
    "        \n",
    "    else:\n",
    "        I = 1/(1/Slider_R3 + 1/((1/(1/Slider_R1 + 1/Slider_R4))+ Slider_R2))\n",
    "        print(f'Rges = 1/(1/R3 + 1/((1/(1/(R1 + 1/R4)) + R2)) = {I} Ohm')\n",
    "        \n",
    "    return I\n",
    "\n",
    "\n",
    "  #  Rges = 1/(1/Slider_R3 + 1/((1/(1/Slider_R1 + 1/Slider_R4))+ Slider_R2))\n",
    "def fonc_Int (Strom, U, Slider_R1, Slider_R2, Slider_R3,Slider_R4):\n",
    "    \n",
    "    \n",
    "    \n",
    "    if Strom == 'I1':\n",
    "        I = U/(1/(1/Slider_R3 + 1/((1/(1/Slider_R1 + 1/Slider_R4))+ Slider_R2)))\n",
    "        print(f'I1= U/(1/(1/R3 + 1/((1/(1/R1 + 1/R4))+ R2))) = {I} A')\n",
    "        \n",
    "    elif Strom == 'Rges':\n",
    "        I = 1/(1/Slider_R3 + 1/((1/(1/Slider_R1 + 1/Slider_R4))+ Slider_R2))\n",
    "        print(f' Rges = 1/(1/R3 + 1/((1/(1/R1 + 1/R4))+ R2)) = {I} Ohm')     \n",
    "        \n",
    "    elif Strom == 'I3':\n",
    "        I = U/Slider_R3\n",
    "        print(f' I3 = U3/R3 = Uges/R3 = {I} A')\n",
    "        \n",
    "        \n",
    "    elif Strom == 'I2':\n",
    "        I = ( U/(1/(1/Slider_R3 + 1/((1/(1/Slider_R1 + 1/Slider_R4))+ Slider_R2)))) - U/Slider_R3\n",
    "        print(f' I2 = U2/R2 = Uges/R2 = {I} A')\n",
    "        \n",
    "    else:\n",
    "        I = U/(1/(1/Slider_R3 + 1/((1/(1/Slider_R1 + 1/Slider_R4))+ Slider_R2)))\n",
    "        print(f'Iges = U/Rges = {I} A')\n",
    "        \n",
    "    return I \n",
    "\n",
    "def fonc_Tens (Spannung, U, Slider_R1, Slider_R2, Slider_R3,Slider_R4):\n",
    "    if Spannung == 'U':\n",
    "        I = U\n",
    "        print(f'U = {I} V')\n",
    "        \n",
    "    elif Spannung == 'U1':\n",
    "        I = Slider_R1 * (U/(1/(1/Slider_R3 + 1/((1/(1/Slider_R1 + 1/Slider_R4))+ Slider_R2))))\n",
    "        print(f' U1 = {I} V')\n",
    "        \n",
    "    elif Spannung == 'U2':\n",
    "        I = Slider_R2 * (( U/(1/(1/Slider_R3 + 1/((1/(1/Slider_R1 + 1/Slider_R4))+ Slider_R2)))) - U/Slider_R3)\n",
    "        print(f'U2 = R2 * (( U/(1/(1/R3 + 1/((1/(1/R1 + 1/R4))+ R2)))) - U/R3) = {I} V')\n",
    "        \n",
    "    elif Spannung == 'U3':\n",
    "        I = Slider_R3 * (U/Slider_R3)\n",
    "        print(f'U3 = R3 * (U/_R3) = {I} V')\n",
    "        \n",
    "    elif Spannung == 'U4':\n",
    "        \n",
    "        I = U - Slider_R2 * (( U/(1/(1/Slider_R3 + 1/((1/(1/Slider_R1 + 1/Slider_R4))+ Slider_R2)))) - U/Slider_R3)\n",
    "        print(f'U4 = U - R2 * (( U/(1/(1/R3 + 1/((1/(1/R1 + 1/R4))+ R2)))) - U/R3) = {I} V')\n",
    "        \n",
    "    else:\n",
    "        I = (U - Slider_R2 * (( U/(1/(1/Slider_R3 + 1/((1/(1/Slider_R1 + 1/Slider_R4))+ Slider_R2)))) - U/Slider_R3))/Slider_R4\n",
    "        print(f' I4 = U4/R4 = {I} A')\n",
    "        \n",
    "    return I \n",
    "\n",
    "\n",
    "    \n",
    "#let widget interact with function and store value\n",
    "widgets.interact(fonc_Res, Widerstand = Res, \n",
    "                  Slider_R1 = Slider_R1, Slider_R2 = Slider_R2, Slider_R3 = Slider_R3, Slider_R4 = Slider_R4)\n",
    "\n",
    "widgets.interact(fonc_Tens, Spannung = Tens, \n",
    "                 U = U, Slider_R1 = Slider_R1, Slider_R2 = Slider_R2, Slider_R3 = Slider_R3, Slider_R4 = Slider_R4)\n",
    "\n",
    "widgets.interact(fonc_Int, Strom = Int, \n",
    "                  U = U, Slider_R1 = Slider_R1, Slider_R2 = Slider_R2, Slider_R3 = Slider_R3, Slider_R4 = Slider_R4)\n",
    "\n",
    "    \n",
    "    \n",
    "def plot_tan(Strom, U, Slider_R1, Slider_R2, Slider_R3,Slider_R4):\n",
    "   # x = np.linspace(0, 2*np.pi,)\n",
    "    x = np.arange(0,2,0.05)\n",
    "    #x = Slider_R1\n",
    "    y = U/Slider_R1*x\n",
    "    z = U/Slider_R2*x\n",
    "    p = U/Slider_R3*x\n",
    "    m = U/((1/(1/Slider_R3 + 1/((1/(1/Slider_R1 + 1/Slider_R4))+ Slider_R2))))*x\n",
    "    \n",
    "    plt.plot(x, y,x,z,x,p,x,m)\n",
    "    #plt.grid()\n",
    "    plt.xlabel('x values from 0 to 2π')  # string must be enclosed with quotes '  '\n",
    "    plt.ylabel('a*tan(b(x-c)) - d, tan(x) and a*arctan(b(x+c)) + d')\n",
    "    plt.title('Plot of a*tan(b(x-c)) - d, tan(x) and a*arctan(b(x+c)) + d from 0 to 2π')\n",
    "    plt.legend(['a*tan(b(x-c)) - d', 'tan(x)','a*arctan(b(x+c)) + d'])      # legend entries as seperate strings in a list\n",
    "\n",
    "widgets.interact(plot_tan, Strom = Int, \n",
    "                  U = U, Slider_R1 = Slider_R1, Slider_R2 = Slider_R2, Slider_R3 = Slider_R3, Slider_R4 = Slider_R4)\n",
    "\n",
    "canvas"
   ]
  },
  {
   "cell_type": "code",
   "execution_count": null,
   "metadata": {},
   "outputs": [],
   "source": []
  },
  {
   "cell_type": "markdown",
   "metadata": {},
   "source": [
    "## Danksagung\n",
    "\n",
    "Dieses digitale Lehr-/Lernmaterial wurde im Rahmen des Programms Fellowships für Innovationen in der digitalen Hochschullehre des Ministeriums für Kultur und Wissenschaft des Landes Nordrhein-Westfalen und des Stifterverbandes entwickelt. Es steht als Open Educational Ressources unter der Lizenz [Creative Commons Attribution-ShareAlike 4.0 International License (CC BY-SA 4.0) ](https://creativecommons.org/licenses/by-sa/4.0/) zur Verfügung.\n",
    "\n",
    "<img align=\"left\" src=\"https://licensebuttons.net/l/by-sa/3.0/88x31.png\">"
   ]
  },
  {
   "cell_type": "code",
   "execution_count": null,
   "metadata": {},
   "outputs": [],
   "source": []
  }
 ],
 "metadata": {
  "kernelspec": {
   "display_name": "Python 3",
   "language": "python",
   "name": "python3"
  },
  "language_info": {
   "codemirror_mode": {
    "name": "ipython",
    "version": 3
   },
   "file_extension": ".py",
   "mimetype": "text/x-python",
   "name": "python",
   "nbconvert_exporter": "python",
   "pygments_lexer": "ipython3",
   "version": "3.8.3"
  }
 },
 "nbformat": 4,
 "nbformat_minor": 4
}
