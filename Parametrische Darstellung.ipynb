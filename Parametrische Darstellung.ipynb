{
 "cells": [
  {
   "cell_type": "markdown",
   "metadata": {},
   "source": [
    "\n",
    "# Smarte und interaktive Kurzskripte (smartiS)\n",
    "# Parametrische Darstellung\n",
    "\n",
    "[Peter Kersten](https://www.hshl.de/personen/prof-dr-ing-peter-kersten), Hamm-Lippstadt University of Applied Sciences  \n",
    "\n",
    "[Paco Leger Kamegne Kamdem](https://www.linkedin.com/in/leger-paco-kamegne-kamdem-07ba39184/), Hamm-Lippstadt University of \n",
    "Applied Sciences  \n",
    "\n",
    "[Noel](), Hamm-Lippstadt University of Applied Sciences  \n",
    "\n",
    "[Jule](), University of Paderborn\n",
    "\n",
    "[Dom](), University of Paderborn\n",
    "\n",
    "\n",
    "Wintersemester 2020/21\n",
    "23th September 2020\n"
   ]
  },
  {
   "cell_type": "markdown",
   "metadata": {},
   "source": [
    "- x und y als Dimension\n",
    "- Zeit t in beiden Dimensionen\n",
    "- Bsp. Segelboot/Eisstock\n"
   ]
  },
  {
   "cell_type": "markdown",
   "metadata": {},
   "source": [
    "## DIY \n",
    "Ein Segelboot fährt um Start Uhr von seinem Hafen mit einer Geschwindigkeit von a kmh ab. zwei stunden später folgt ein Motorboot mit einer Geschwindigkeit von c kmh. Wann und wo treffen sich die Boote?"
   ]
  },
  {
   "cell_type": "markdown",
   "metadata": {},
   "source": [
    "### -  SegelBoot Funktionsgleichung f(x)\n",
    "\n",
    "f(x) = ax + b\n",
    "\n"
   ]
  },
  {
   "cell_type": "code",
   "execution_count": 1,
   "metadata": {},
   "outputs": [],
   "source": [
    "from cycler import cycler\n",
    "import numpy as np\n",
    "import matplotlib.pyplot as plt"
   ]
  },
  {
   "cell_type": "code",
   "execution_count": 2,
   "metadata": {},
   "outputs": [],
   "source": [
    "%matplotlib inline\n",
    "\n",
    "import numpy as np\n",
    "import matplotlib.pyplot as plt\n",
    "import ipywidgets as widgets\n",
    "import matplotlib.animation as animation\n",
    "\n",
    "from ipywidgets import interact\n",
    "from IPython.display import Markdown, clear_output, display\n",
    "from sympy import symbols\n",
    "from matplotlib.pyplot import figure\n",
    "\n",
    "import ipywidgets as widgets\n",
    "from ipywidgets import Box, HBox, VBox, Layout, Image\n",
    "from ipycanvas import MultiCanvas, Canvas, hold_canvas\n"
   ]
  },
  {
   "cell_type": "code",
   "execution_count": 3,
   "metadata": {},
   "outputs": [],
   "source": [
    "%matplotlib inline  \n",
    "import numpy as np\n",
    "import sympy as sp\n",
    "import math as m\n",
    "import matplotlib.pyplot as plt\n",
    "import ipywidgets as widgets\n",
    "\n",
    "from ipywidgets import interact\n",
    "from sympy import symbols\n",
    "from sympy.plotting import plot3d\n",
    "from matplotlib.pyplot import figure"
   ]
  },
  {
   "cell_type": "code",
   "execution_count": 89,
   "metadata": {},
   "outputs": [
    {
     "data": {
      "text/html": [
       "<script>$(\"div.input\").hide()</script>"
      ],
      "text/plain": [
       "<IPython.core.display.HTML object>"
      ]
     },
     "metadata": {},
     "output_type": "display_data"
    },
    {
     "data": {
      "application/vnd.jupyter.widget-view+json": {
       "model_id": "f759710512204185878449923f8d7761",
       "version_major": 2,
       "version_minor": 0
      },
      "text/plain": [
       "ToggleButton(value=False, description='Code anzeigen')"
      ]
     },
     "metadata": {},
     "output_type": "display_data"
    },
    {
     "data": {
      "text/html": [
       "<script>$(\"div.input\").show()</script>"
      ],
      "text/plain": [
       "<IPython.core.display.HTML object>"
      ]
     },
     "metadata": {},
     "output_type": "display_data"
    }
   ],
   "source": [
    "\n",
    "#____import____\n",
    "\n",
    "%matplotlib inline\n",
    "\n",
    "import numpy as np\n",
    "import ipywidgets as widgets\n",
    "\n",
    "from ipywidgets import interact\n",
    "from IPython.display import Markdown, clear_output, display, HTML\n",
    "\n",
    "javascript_functions = {False: \"hide()\", True: \"show()\"}\n",
    "button_descriptions  = {False: \"Code anzeigen\", True: \"Code verbergen\"}\n",
    "\n",
    "\n",
    "def toggle_code(state):\n",
    "\n",
    "    \"\"\"\n",
    "    Toggles the JavaScript show()/hide() function on the div.input element.\n",
    "    \"\"\"\n",
    "\n",
    "    output_string = \"<script>$(\\\"div.input\\\").{}</script>\"\n",
    "    output_args   = (javascript_functions[state],)\n",
    "    output        = output_string.format(*output_args)\n",
    "\n",
    "    display(HTML(output))\n",
    "\n",
    "\n",
    "def button_action(value):\n",
    "\n",
    "    \"\"\"\n",
    "    Calls the toggle_code function and updates the button description.\n",
    "    \"\"\"\n",
    "\n",
    "    state = value.new\n",
    "\n",
    "    toggle_code(state)\n",
    "\n",
    "    value.owner.description = button_descriptions[state]\n",
    "\n",
    "\n",
    "state = False\n",
    "toggle_code(state)\n",
    "\n",
    "button = widgets.ToggleButton(state, description = button_descriptions[state])\n",
    "button.observe(button_action, \"value\")\n",
    "\n",
    "display(button)"
   ]
  },
  {
   "cell_type": "code",
   "execution_count": 4,
   "metadata": {},
   "outputs": [
    {
     "data": {
      "application/vnd.jupyter.widget-view+json": {
       "model_id": "a9716c7523ab43299366d40df4b5bd75",
       "version_major": 2,
       "version_minor": 0
      },
      "text/plain": [
       "interactive(children=(FloatSlider(value=7.5, description='a', max=50.0, min=0.01), FloatSlider(value=7.5, desc…"
      ]
     },
     "metadata": {},
     "output_type": "display_data"
    },
    {
     "data": {
      "text/plain": [
       "<function __main__.plot_func(a, b)>"
      ]
     },
     "execution_count": 4,
     "metadata": {},
     "output_type": "execute_result"
    }
   ],
   "source": [
    "def plot_func(a,b):\n",
    "   # x = np.linspace(0, 2*np.pi,)\n",
    "    x = np.arange(0,5,0.1)\n",
    "    f = a*x + b\n",
    "\n",
    "    \n",
    "    plt.plot(x, f)\n",
    "    plt.grid()\n",
    "    plt.xlabel('x values from 0 to 2π')  # string must be enclosed with quotes '  '\n",
    "    plt.ylabel('sin(-bx), sin(x) and sin(bx)')\n",
    "    plt.title('Plot of sin(-bx), sin(x) and sin(bx) from 0 to 2π')\n",
    "    plt.legend(['sin(-bx)', 'sin(x)','sin(bx)'])      # legend entries as seperate strings in a list\n",
    "\n",
    "interact(plot_func, a = widgets.FloatSlider(value=7.5,min=0.01, max=50.0, step=0.1),\n",
    "                    b = widgets.FloatSlider(value=7.5,min=1, max=50.0, step=0.5))\n"
   ]
  },
  {
   "cell_type": "markdown",
   "metadata": {},
   "source": [
    "\n",
    "\n",
    "### - MotorBoot Funktionsgleichung g(x)\n",
    "\n",
    "g(x) = cx + d"
   ]
  },
  {
   "cell_type": "code",
   "execution_count": 5,
   "metadata": {},
   "outputs": [
    {
     "data": {
      "application/vnd.jupyter.widget-view+json": {
       "model_id": "315d385abcc445e0991621590cf1cbe1",
       "version_major": 2,
       "version_minor": 0
      },
      "text/plain": [
       "interactive(children=(FloatSlider(value=7.5, description='c', max=50.0, min=0.01), FloatSlider(value=7.5, desc…"
      ]
     },
     "metadata": {},
     "output_type": "display_data"
    },
    {
     "data": {
      "text/plain": [
       "<function __main__.plot_func(c, d)>"
      ]
     },
     "execution_count": 5,
     "metadata": {},
     "output_type": "execute_result"
    }
   ],
   "source": [
    "def plot_func(c,d):\n",
    "   # x = np.linspace(0, 2*np.pi,)\n",
    "    x = np.arange(0,5,0.1)\n",
    "    g = c*x + d\n",
    "\n",
    "    \n",
    "    plt.plot(x, g)\n",
    "    plt.grid()\n",
    "    plt.xlabel('x values from 0 to 2π')  # string must be enclosed with quotes '  '\n",
    "    plt.ylabel('sin(-bx), sin(x) and sin(bx)')\n",
    "    plt.title('Plot of sin(-bx), sin(x) and sin(bx) from 0 to 2π')\n",
    "    plt.legend(['sin(-bx)', 'sin(x)','sin(bx)'])      # legend entries as seperate strings in a list\n",
    "\n",
    "interact(plot_func, c = widgets.FloatSlider(value=7.5,min=0.01, max=50.0, step=0.1),\n",
    "                    d = widgets.FloatSlider(value=7.5,min=0, max=50.0, step=0.5))\n"
   ]
  },
  {
   "cell_type": "markdown",
   "metadata": {},
   "source": [
    "#### Schnittpunkt: f(x) = g(x)\n"
   ]
  },
  {
   "cell_type": "code",
   "execution_count": 6,
   "metadata": {},
   "outputs": [
    {
     "data": {
      "application/vnd.jupyter.widget-view+json": {
       "model_id": "933b7cdb724d4f20b2645f4f6a3b0e5b",
       "version_major": 2,
       "version_minor": 0
      },
      "text/plain": [
       "interactive(children=(FloatSlider(value=10.5, description='a', max=10.5, min=10.5), FloatSlider(value=30.0, de…"
      ]
     },
     "metadata": {},
     "output_type": "display_data"
    },
    {
     "data": {
      "text/plain": [
       "<function __main__.plot_func(a, b, c, d)>"
      ]
     },
     "execution_count": 6,
     "metadata": {},
     "output_type": "execute_result"
    }
   ],
   "source": [
    "import matplotlib.pyplot as plt\n",
    "\n",
    "def plot_func(a,b,c,d):\n",
    "   # x = np.linspace(0, 2*np.pi,)\n",
    "    x = np.arange(0,5,0.1)\n",
    "    f = a*x + b\n",
    "    g = c*x + d\n",
    "    \n",
    "    blackDot, = plt.plot([1.1], [43], 'ro', lw=10)\n",
    "    \n",
    "    plt.plot(x, f, x, g)\n",
    "    plt.grid()\n",
    "    plt.xlabel('x values from 0 to 2π')  # string must be enclosed with quotes '  '\n",
    "    plt.ylabel('sin(-bx), sin(x) and sin(bx)')\n",
    "    plt.title('Plot of sin(-bx), sin(x) and sin(bx) from 0 to 2π')\n",
    "    plt.legend(['sin(-bx)', 'sin(x)','sin(bx)'])      # legend entries as seperate strings in a list\n",
    "    plt.show()\n",
    "\n",
    "interact(plot_func, a = widgets.FloatSlider(value=10.5,min=10.5, max=10.5, step=0.1),\n",
    "                    b = widgets.FloatSlider(value=30,min=30, max=30.0, step=0.1),\n",
    "                    c = widgets.FloatSlider(value=30.5,min=30.5, max=30.5, step=0.1),\n",
    "                    d = widgets.FloatSlider(value=10,min=10, max=10.0, step=0.5))\n"
   ]
  },
  {
   "cell_type": "markdown",
   "metadata": {},
   "source": [
    "## DIY \n",
    "Ein Segelboot fährt um 8 Uhr von seinem Hafen mit einer Geschwindigkeit von a = 17,5 kmh ab. zwei stunden später folgt ein Motorboot mit einer Geschwindigkeit von c = 38,5kmh. Wann und wo treffen sich die Boote? Also b = 35 km und d = 0 km\n",
    " Geschwindigkeiten und Strecke können mithilfe der Schieberegler eingestellt werden."
   ]
  },
  {
   "cell_type": "code",
   "execution_count": 7,
   "metadata": {},
   "outputs": [
    {
     "data": {
      "application/vnd.jupyter.widget-view+json": {
       "model_id": "d18bbbaffa3c480d99450ab152cfca46",
       "version_major": 2,
       "version_minor": 0
      },
      "text/plain": [
       "interactive(children=(FloatSlider(value=11.5, description='a', max=50.0, min=0.01), FloatSlider(value=45.0, de…"
      ]
     },
     "metadata": {},
     "output_type": "display_data"
    },
    {
     "data": {
      "text/plain": [
       "<function __main__.plot_func(a, b, c, d)>"
      ]
     },
     "execution_count": 7,
     "metadata": {},
     "output_type": "execute_result"
    },
    {
     "data": {
      "image/png": "[encoded data removed]",
      "text/plain": [
       "<Figure size 432x288 with 1 Axes>"
      ]
     },
     "metadata": {
      "needs_background": "light"
     },
     "output_type": "display_data"
    }
   ],
   "source": [
    "\n",
    "def plot_func(a,b,c,d):\n",
    "   # x = np.linspace(0, 2*np.pi,)\n",
    "    x = np.arange(0,5,)\n",
    "    f = a*x + b\n",
    "    g = c*x + d\n",
    "    \n",
    "    blackDot, = plt.plot([1.6], [63], 'ro', lw=10)\n",
    "    \n",
    "    plt.plot(x, f, x, g)\n",
    "    plt.grid()\n",
    "    plt.xlabel('x values from 0 to 2π')  # string must be enclosed with quotes '  '\n",
    "    plt.ylabel('sin(-bx), sin(x) and sin(bx)')\n",
    "    plt.title('Plot of sin(-bx), sin(x) and sin(bx) from 0 to 2π')\n",
    "    plt.legend(['sin(-bx)', 'sin(x)','sin(bx)'])      # legend entries as seperate strings in a list\n",
    "    return x, y\n",
    "\n",
    "interact(plot_func, a = widgets.FloatSlider(value=11.5,min=0.01, max=50.0, step=0.1),\n",
    "                    b = widgets.FloatSlider(value=45,min=0.01, max=50.0, step=0.1),\n",
    "                    c = widgets.FloatSlider(value=48.5,min=0.01, max=50.0, step=0.1),\n",
    "                    d = widgets.FloatSlider(value=5,min=0, max=50.0, step=0.5))\n",
    "\n"
   ]
  },
  {
   "cell_type": "code",
   "execution_count": 8,
   "metadata": {},
   "outputs": [
    {
     "name": "stdout",
     "output_type": "stream",
     "text": [
      "Für a = 17,5; b = 35, c = 38,5 und d = 0 haben wir folgende Ergebnisse:\n",
      "Die beiden treffen sich  um  11 .36 Uhr.\n",
      "Beide Boote haben dan eine Entfernung von 63 km zurückgelegt.\n"
     ]
    }
   ],
   "source": [
    "print(\"Für a = 17,5; b = 35, c = 38,5 und d = 0 haben wir folgende Ergebnisse:\")\n",
    "print(\"Die beiden treffen sich  um  11 .36 Uhr.\")\n",
    "print(\"Beide Boote haben dan eine Entfernung von 63 km zurückgelegt.\")"
   ]
  },
  {
   "cell_type": "code",
   "execution_count": null,
   "metadata": {},
   "outputs": [],
   "source": []
  },
  {
   "cell_type": "code",
   "execution_count": 9,
   "metadata": {},
   "outputs": [
    {
     "data": {
      "image/png": "[encoded data removed]",
      "text/plain": [
       "<Figure size 432x288 with 1 Axes>"
      ]
     },
     "metadata": {
      "needs_background": "light"
     },
     "output_type": "display_data"
    }
   ],
   "source": [
    "x = np.arange(0,3.5,0.1)\n",
    "f = 960*np.exp(-x) - 960*np.exp(-2*x)\n",
    "o = -960*np.exp(-x) + 2*960*np.exp(-2*x)\n",
    "#g = 160\n",
    "h = 480*np.exp(-2*x) - 960*np.exp(-x) + 480\n",
    "#j = 160*x\n",
    "p = o*(2.55)*(x-2.55) + f*2.55\n",
    "    \n",
    "\n",
    "    \n",
    "plt.plot(x, f, x, o, x, h,x,p)#, x, g, x, h, x, j, x, p)\n",
    "plt.grid()\n",
    "plt.xlabel('x values from 0 to 2π')  # string must be enclosed with quotes '  '\n",
    "plt.ylabel('sin(-bx), sin(x) and sin(bx)')\n",
    "plt.title('Plot of sin(-bx), sin(x) and sin(bx) from 0 to 2π')\n",
    "plt.legend(['sin(-bx)', 'sin(x)','sin(bx)'])      # legend entries as seperate strings in a list\n",
    "plt.show()"
   ]
  },
  {
   "cell_type": "code",
   "execution_count": null,
   "metadata": {},
   "outputs": [],
   "source": []
  },
  {
   "cell_type": "code",
   "execution_count": 10,
   "metadata": {},
   "outputs": [
    {
     "data": {
      "application/vnd.jupyter.widget-view+json": {
       "model_id": "2140e997256d4695982b77ffec513e2a",
       "version_major": 2,
       "version_minor": 0
      },
      "text/plain": [
       "interactive(children=(ToggleButtons(description='trigo:', options=('Sinus', 'Cosinus', 'Tangente', 'Cotangente…"
      ]
     },
     "metadata": {},
     "output_type": "display_data"
    },
    {
     "data": {
      "application/vnd.jupyter.widget-view+json": {
       "model_id": "2a93809dfbdb4860a555feeebc90ef1d",
       "version_major": 2,
       "version_minor": 0
      },
      "text/plain": [
       "interactive(children=(FloatSlider(value=1.0, description='Ankatheten in m', min=1.0), FloatSlider(value=30.0, …"
      ]
     },
     "metadata": {},
     "output_type": "display_data"
    },
    {
     "data": {
      "application/vnd.jupyter.widget-view+json": {
       "model_id": "0267542341984a879a2cf6e334e14b37",
       "version_major": 2,
       "version_minor": 0
      },
      "text/plain": [
       "interactive(children=(FloatSlider(value=1.0, description='Ankatheten in m', min=1.0), FloatSlider(value=30.0, …"
      ]
     },
     "metadata": {},
     "output_type": "display_data"
    },
    {
     "data": {
      "text/plain": [
       "<function __main__.plot_tan(Ankatheten, Gegenkatheten, Hypothenuse)>"
      ]
     },
     "execution_count": 10,
     "metadata": {},
     "output_type": "execute_result"
    }
   ],
   "source": [
    "Buttons = widgets.ToggleButtons(\n",
    "                                options=['Sinus', 'Cosinus', 'Tangente', 'Cotangente'],\n",
    "                                description='trigo:',\n",
    "                                disabled=False,\n",
    "                                button_style='', # 'success', 'info', 'warning', 'danger' or ''\n",
    "                                tooltips=['Description of slow', 'Description of regular', 'Description of fast'],\n",
    "                                )\n",
    "\n",
    "Paco = widgets.HTMLMath(\n",
    "                  value=r\"Some math and <i>HTML</i>: \\(Ankatheten^2\\) and $$\\frac{Ankatheten+1}{Ankatheten-1}$$\",\n",
    "                  description='Some HTML',\n",
    "                 )\n",
    "\n",
    "Ankatheten = widgets.FloatSlider(min=1.0, max=100.0, step=0.1, value=1.0, description='Ankatheten in m')\n",
    "Gegenkatheten = widgets.FloatSlider(min=1.0, max=1000.0, step=0.1, value=30.0, description='Gegenkatheten in m')\n",
    "Hypothenuse = widgets.FloatSlider(min=1.0, max=100.0, step=0.1, value=10.0, description='Hypothenuse in m')\n",
    "\n",
    "\n",
    "Hypothenuse = widgets.Play(\n",
    "    value=5.0,\n",
    "    min=1.0,\n",
    "    max=100.0,\n",
    "    step=1.0,\n",
    "    interval=500.0,\n",
    "    description=\"Press play\",\n",
    "    disabled=False\n",
    ")\n",
    "slider = widgets.IntSlider()\n",
    "widgets.jslink((Hypothenuse, 'value'), (slider, 'value'))\n",
    "widgets.HBox([Hypothenuse, slider])\n",
    "\n",
    "\n",
    "def fonc (trigo, Ankatheten, Gegenkatheten, Hypothenuse):\n",
    "    if trigo == 'Sinus':\n",
    "        I = Gegenkatheten/Hypothenuse\n",
    "        print(f'sin(a) = G/H = {I} ')\n",
    "        \n",
    "    elif trigo == 'Cosinus':\n",
    "        I = Ankatheten/Hypothenuse \n",
    "        print(f' cos(a) = A/H = {I}')\n",
    "        \n",
    "    elif trigo == 'Tangente':\n",
    "        I = Gegenkatheten/Ankatheten\n",
    "        print(f'tan(a) = G/A {I}')\n",
    "        \n",
    "    else:\n",
    "        I = Ankatheten/Gegenkatheten\n",
    "        print(f'cot(a) = A/G = {I}')\n",
    "        \n",
    "    \n",
    "\n",
    "widgets.interact(fonc, trigo = Buttons, \n",
    "                 Gegenkatheten = Gegenkatheten, Ankatheten = Ankatheten, Hypothenuse = Hypothenuse)\n",
    "\n",
    "def plot_sin(Ankatheten,Gegenkatheten,Hypothenuse):\n",
    "   # x = np.linspace(0, 2*np.pi,)\n",
    "    x = np.arange(-0,1*np.pi,0.05)\n",
    "    y = np.sin(Ankatheten*(x-Hypothenuse))*Gegenkatheten-Hypothenuse\n",
    "    z = np.sin(x)\n",
    "    p = np.sin(Ankatheten*(x+Hypothenuse))*Gegenkatheten+Hypothenuse\n",
    "   # return x, y, z\n",
    "\n",
    "    plt.plot(x, y,x,z,x,p)\n",
    "    plt.grid()\n",
    "    plt.xlabel('x values from 0 to 2π')  # string must be enclosed with quotes '  '\n",
    "    plt.ylabel('a*sin(b(x-c)) - d, sin(x) and a*sin(b(x+c)) + d')\n",
    "    plt.title('Plot of a*sin(b(x-c)) - d, sin(x) and a*sin(b(x+c)) + d from 0 to 2π')\n",
    "    plt.legend(['a*sin(b(x-c)) - d', 'sin(x)','asin(b(x+c)) + d'])      # legend entries as seperate strings in a list\n",
    "    \n",
    "widgets.interact(plot_sin, Ankatheten = Ankatheten, Gegenkatheten = Gegenkatheten, Hypothenuse = Hypothenuse)\n",
    "\n",
    "#interact(plot_func, a = widgets.FloatSlider(value=7.5,min=0.1, max=10.0, step=0.5),\n",
    "  #      b = widgets.FloatSlider(value=7.5,min=1, max=5.0, step=0.5),\n",
    "   #     c = widgets.FloatSlider(value=7.5,min=1, max=5.0, step=1),\n",
    "    #    d = widgets.FloatSlider(value=7.5,min=0.01, max=5.0, step=0.5),)\n",
    "\n",
    "    \n",
    "    \n",
    "def plot_tan(Ankatheten,Gegenkatheten,Hypothenuse):\n",
    "   # x = np.linspace(0, 2*np.pi,)\n",
    "    x = np.arange(0,1*np.pi,0.05)\n",
    "    y = np.tan(Ankatheten*(x-Hypothenuse))*Gegenkatheten-Hypothenuse\n",
    "    z = np.tan(x)\n",
    "    p = np.arctan(Ankatheten*(x+Hypothenuse))*Gegenkatheten+Hypothenuse\n",
    "    \n",
    "    plt.plot(x, y,x,z,x,p)\n",
    "    plt.grid()\n",
    "    plt.xlabel('x values from 0 to 2π')  # string must be enclosed with quotes '  '\n",
    "    plt.ylabel('a*tan(b(x-c)) - d, tan(x) and a*arctan(b(x+c)) + d')\n",
    "    plt.title('Plot of a*tan(b(x-c)) - d, tan(x) and a*arctan(b(x+c)) + d from 0 to 2π')\n",
    "    plt.legend(['a*tan(b(x-c)) - d', 'tan(x)','a*arctan(b(x+c)) + d'])      # legend entries as seperate strings in a list\n",
    "\n",
    "widgets.interact(plot_tan, Ankatheten = Ankatheten, Gegenkatheten = Gegenkatheten, Hypothenuse = Hypothenuse)"
   ]
  },
  {
   "cell_type": "code",
   "execution_count": 11,
   "metadata": {},
   "outputs": [],
   "source": [
    "x = np.linspace(0, 2 * np.pi, 50)\n",
    "offsets = np.linspace(0, 2 * np.pi, 4, endpoint=False)\n",
    "yy = np.transpose([np.sin(x + phi) for phi in offsets])"
   ]
  },
  {
   "cell_type": "code",
   "execution_count": 12,
   "metadata": {},
   "outputs": [
    {
     "name": "stdout",
     "output_type": "stream",
     "text": [
      "(50, 4)\n"
     ]
    }
   ],
   "source": [
    "print(yy.shape)"
   ]
  },
  {
   "cell_type": "code",
   "execution_count": 13,
   "metadata": {},
   "outputs": [],
   "source": [
    "default_cycler = (cycler(color=['r', 'g', 'b', 'y']) +\n",
    "                  cycler(linestyle=['-', '--', ':', '-.']))\n",
    "\n",
    "plt.rc('lines', linewidth=4)\n",
    "plt.rc('axes', prop_cycle=default_cycler)"
   ]
  },
  {
   "cell_type": "code",
   "execution_count": 14,
   "metadata": {},
   "outputs": [
    {
     "data": {
      "image/png": "[encoded data removed]",
      "text/plain": [
       "<Figure size 432x288 with 2 Axes>"
      ]
     },
     "metadata": {
      "needs_background": "light"
     },
     "output_type": "display_data"
    }
   ],
   "source": [
    "custom_cycler = (cycler(color=['c', 'm', 'y', 'k']) +\n",
    "                 cycler(lw=[1, 2, 3, 4]))\n",
    "\n",
    "fig, (ax0, ax1) = plt.subplots(nrows=2)\n",
    "ax0.plot(yy)\n",
    "ax0.set_title('Set default color cycle to rgby')\n",
    "ax1.set_prop_cycle(custom_cycler)\n",
    "ax1.plot(yy)\n",
    "ax1.set_title('Set axes color cycle to cmyk')\n",
    "\n",
    "# Add a bit more space between the two plots.\n",
    "fig.subplots_adjust(hspace=0.3)\n",
    "plt.show()"
   ]
  },
  {
   "cell_type": "code",
   "execution_count": 15,
   "metadata": {},
   "outputs": [
    {
     "data": {
      "image/png": "[encoded data removed]",
      "text/plain": [
       "<Figure size 432x288 with 1 Axes>"
      ]
     },
     "metadata": {
      "needs_background": "light"
     },
     "output_type": "display_data"
    }
   ],
   "source": [
    "import numpy as np\n",
    "import matplotlib.pyplot as plt\n",
    "import matplotlib.patches as mpatches\n",
    "\n",
    "x = np.arange(0, 10, 0.005)\n",
    "y = np.exp(-x/2.) * np.sin(2*np.pi*x)\n",
    "\n",
    "fig, ax = plt.subplots()\n",
    "ax.plot(x, y)\n",
    "ax.set_xlim(0, 10)\n",
    "ax.set_ylim(-1, 1)\n",
    "\n",
    "plt.show()"
   ]
  },
  {
   "cell_type": "code",
   "execution_count": 16,
   "metadata": {},
   "outputs": [
    {
     "data": {
      "image/png": "[encoded data removed]",
      "text/plain": [
       "<Figure size 432x288 with 1 Axes>"
      ]
     },
     "metadata": {
      "needs_background": "light"
     },
     "output_type": "display_data"
    }
   ],
   "source": [
    "import matplotlib.transforms as transforms\n",
    "fig, ax = plt.subplots()\n",
    "xdata, ydata = (0.2, 0.7), (0.5, 0.5)\n",
    "ax.plot(xdata, ydata, \"o\")\n",
    "ax.set_xlim((0, 1))\n",
    "\n",
    "trans = (fig.dpi_scale_trans +\n",
    "         transforms.ScaledTranslation(xdata[0], ydata[0], ax.transData))\n",
    "\n",
    "# plot an ellipse around the point that is 150 x 130 points in diameter...\n",
    "circle = mpatches.Ellipse((0, 0), 150/72, 130/72, angle=40,\n",
    "                          fill=None, transform=trans)\n",
    "ax.add_patch(circle)\n",
    "plt.show()"
   ]
  },
  {
   "cell_type": "markdown",
   "metadata": {},
   "source": [
    "## Danksagung\n",
    "\n",
    "Dieses digitale Lehr-/Lernmaterial wurde im Rahmen des Programms Fellowships für Innovationen in der digitalen Hochschullehre des Ministeriums für Kultur und Wissenschaft des Landes Nordrhein-Westfalen und des Stifterverbandes entwickelt. Es steht als Open Educational Ressources unter der Lizenz [Creative Commons Attribution-ShareAlike 4.0 International License (CC BY-SA 4.0) ](https://creativecommons.org/licenses/by-sa/4.0/) zur Verfügung.\n",
    "\n",
    "<img align=\"left\" src=\"https://licensebuttons.net/l/by-sa/3.0/88x31.png\">"
   ]
  },
  {
   "cell_type": "code",
   "execution_count": null,
   "metadata": {},
   "outputs": [],
   "source": []
  }
 ],
 "metadata": {
  "kernelspec": {
   "display_name": "Python 3",
   "language": "python",
   "name": "python3"
  },
  "language_info": {
   "codemirror_mode": {
    "name": "ipython",
    "version": 3
   },
   "file_extension": ".py",
   "mimetype": "text/x-python",
   "name": "python",
   "nbconvert_exporter": "python",
   "pygments_lexer": "ipython3",
   "version": "3.8.3"
  }
 },
 "nbformat": 4,
 "nbformat_minor": 4
}
